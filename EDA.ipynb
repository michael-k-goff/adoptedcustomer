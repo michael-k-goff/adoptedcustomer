{
 "cells": [
  {
   "cell_type": "code",
   "execution_count": 168,
   "id": "1d3467c4",
   "metadata": {},
   "outputs": [],
   "source": [
    "import pandas as pd\n",
    "import datetime\n",
    "from scipy.stats import f_oneway\n",
    "from sklearn.model_selection import train_test_split\n",
    "from sklearn.linear_model import LinearRegression\n",
    "import matplotlib.pyplot as plt\n",
    "import statsmodels.api as sma\n",
    "from sklearn.metrics import r2_score"
   ]
  },
  {
   "cell_type": "code",
   "execution_count": 169,
   "id": "77ed2316",
   "metadata": {},
   "outputs": [],
   "source": [
    "engagement = pd.read_csv(\"takehome_user_engagement.csv\")"
   ]
  },
  {
   "cell_type": "code",
   "execution_count": 170,
   "id": "fcb3d28d",
   "metadata": {},
   "outputs": [
    {
     "data": {
      "text/html": [
       "<div>\n",
       "<style scoped>\n",
       "    .dataframe tbody tr th:only-of-type {\n",
       "        vertical-align: middle;\n",
       "    }\n",
       "\n",
       "    .dataframe tbody tr th {\n",
       "        vertical-align: top;\n",
       "    }\n",
       "\n",
       "    .dataframe thead th {\n",
       "        text-align: right;\n",
       "    }\n",
       "</style>\n",
       "<table border=\"1\" class=\"dataframe\">\n",
       "  <thead>\n",
       "    <tr style=\"text-align: right;\">\n",
       "      <th></th>\n",
       "      <th>time_stamp</th>\n",
       "      <th>user_id</th>\n",
       "      <th>visited</th>\n",
       "    </tr>\n",
       "  </thead>\n",
       "  <tbody>\n",
       "    <tr>\n",
       "      <th>0</th>\n",
       "      <td>2014-04-22 03:53:30</td>\n",
       "      <td>1</td>\n",
       "      <td>1</td>\n",
       "    </tr>\n",
       "    <tr>\n",
       "      <th>1</th>\n",
       "      <td>2013-11-15 03:45:04</td>\n",
       "      <td>2</td>\n",
       "      <td>1</td>\n",
       "    </tr>\n",
       "    <tr>\n",
       "      <th>2</th>\n",
       "      <td>2013-11-29 03:45:04</td>\n",
       "      <td>2</td>\n",
       "      <td>1</td>\n",
       "    </tr>\n",
       "    <tr>\n",
       "      <th>3</th>\n",
       "      <td>2013-12-09 03:45:04</td>\n",
       "      <td>2</td>\n",
       "      <td>1</td>\n",
       "    </tr>\n",
       "    <tr>\n",
       "      <th>4</th>\n",
       "      <td>2013-12-25 03:45:04</td>\n",
       "      <td>2</td>\n",
       "      <td>1</td>\n",
       "    </tr>\n",
       "    <tr>\n",
       "      <th>...</th>\n",
       "      <td>...</td>\n",
       "      <td>...</td>\n",
       "      <td>...</td>\n",
       "    </tr>\n",
       "    <tr>\n",
       "      <th>207912</th>\n",
       "      <td>2013-09-06 06:14:15</td>\n",
       "      <td>11996</td>\n",
       "      <td>1</td>\n",
       "    </tr>\n",
       "    <tr>\n",
       "      <th>207913</th>\n",
       "      <td>2013-01-15 18:28:37</td>\n",
       "      <td>11997</td>\n",
       "      <td>1</td>\n",
       "    </tr>\n",
       "    <tr>\n",
       "      <th>207914</th>\n",
       "      <td>2014-04-27 12:45:16</td>\n",
       "      <td>11998</td>\n",
       "      <td>1</td>\n",
       "    </tr>\n",
       "    <tr>\n",
       "      <th>207915</th>\n",
       "      <td>2012-06-02 11:55:59</td>\n",
       "      <td>11999</td>\n",
       "      <td>1</td>\n",
       "    </tr>\n",
       "    <tr>\n",
       "      <th>207916</th>\n",
       "      <td>2014-01-26 08:57:12</td>\n",
       "      <td>12000</td>\n",
       "      <td>1</td>\n",
       "    </tr>\n",
       "  </tbody>\n",
       "</table>\n",
       "<p>207917 rows × 3 columns</p>\n",
       "</div>"
      ],
      "text/plain": [
       "                 time_stamp  user_id  visited\n",
       "0       2014-04-22 03:53:30        1        1\n",
       "1       2013-11-15 03:45:04        2        1\n",
       "2       2013-11-29 03:45:04        2        1\n",
       "3       2013-12-09 03:45:04        2        1\n",
       "4       2013-12-25 03:45:04        2        1\n",
       "...                     ...      ...      ...\n",
       "207912  2013-09-06 06:14:15    11996        1\n",
       "207913  2013-01-15 18:28:37    11997        1\n",
       "207914  2014-04-27 12:45:16    11998        1\n",
       "207915  2012-06-02 11:55:59    11999        1\n",
       "207916  2014-01-26 08:57:12    12000        1\n",
       "\n",
       "[207917 rows x 3 columns]"
      ]
     },
     "execution_count": 170,
     "metadata": {},
     "output_type": "execute_result"
    }
   ],
   "source": [
    "engagement"
   ]
  },
  {
   "cell_type": "code",
   "execution_count": 171,
   "id": "b18a87ee",
   "metadata": {},
   "outputs": [
    {
     "data": {
      "text/plain": [
       "1    207917\n",
       "Name: visited, dtype: int64"
      ]
     },
     "execution_count": 171,
     "metadata": {},
     "output_type": "execute_result"
    }
   ],
   "source": [
    "# The 'visited' column contains only 1's and therefore does not provide useful information for this analysis.\n",
    "engagement.visited.value_counts()"
   ]
  },
  {
   "cell_type": "code",
   "execution_count": 172,
   "id": "0b129cb0",
   "metadata": {},
   "outputs": [
    {
     "data": {
      "text/plain": [
       "8823"
      ]
     },
     "execution_count": 172,
     "metadata": {},
     "output_type": "execute_result"
    }
   ],
   "source": [
    "# Number of users of the 12000 total who logged in at least once.\n",
    "len(engagement.user_id.unique())"
   ]
  },
  {
   "cell_type": "code",
   "execution_count": 173,
   "id": "fd3f9d30",
   "metadata": {},
   "outputs": [],
   "source": [
    "# The original file has characters with bad encoding. One way to fix the problem is to run the following on\n",
    "# the command line:\n",
    "# iconv -f utf-8 -t utf-8 -c \"takehome_users.csv\" > \"takehome_users_clean.csv\"\n",
    "\n",
    "# A better solution is to read the file with a different encoding. utf-8 is the default.\n",
    "users = pd.read_csv(\"takehome_users.csv\",encoding=\"latin1\")"
   ]
  },
  {
   "cell_type": "code",
   "execution_count": 174,
   "id": "6970a9ea",
   "metadata": {},
   "outputs": [
    {
     "data": {
      "text/html": [
       "<div>\n",
       "<style scoped>\n",
       "    .dataframe tbody tr th:only-of-type {\n",
       "        vertical-align: middle;\n",
       "    }\n",
       "\n",
       "    .dataframe tbody tr th {\n",
       "        vertical-align: top;\n",
       "    }\n",
       "\n",
       "    .dataframe thead th {\n",
       "        text-align: right;\n",
       "    }\n",
       "</style>\n",
       "<table border=\"1\" class=\"dataframe\">\n",
       "  <thead>\n",
       "    <tr style=\"text-align: right;\">\n",
       "      <th></th>\n",
       "      <th>object_id</th>\n",
       "      <th>creation_time</th>\n",
       "      <th>name</th>\n",
       "      <th>email</th>\n",
       "      <th>creation_source</th>\n",
       "      <th>last_session_creation_time</th>\n",
       "      <th>opted_in_to_mailing_list</th>\n",
       "      <th>enabled_for_marketing_drip</th>\n",
       "      <th>org_id</th>\n",
       "      <th>invited_by_user_id</th>\n",
       "    </tr>\n",
       "  </thead>\n",
       "  <tbody>\n",
       "    <tr>\n",
       "      <th>0</th>\n",
       "      <td>1</td>\n",
       "      <td>2014-04-22 03:53:30</td>\n",
       "      <td>Clausen August</td>\n",
       "      <td>AugustCClausen@yahoo.com</td>\n",
       "      <td>GUEST_INVITE</td>\n",
       "      <td>1.398139e+09</td>\n",
       "      <td>1</td>\n",
       "      <td>0</td>\n",
       "      <td>11</td>\n",
       "      <td>10803.0</td>\n",
       "    </tr>\n",
       "    <tr>\n",
       "      <th>1</th>\n",
       "      <td>2</td>\n",
       "      <td>2013-11-15 03:45:04</td>\n",
       "      <td>Poole Matthew</td>\n",
       "      <td>MatthewPoole@gustr.com</td>\n",
       "      <td>ORG_INVITE</td>\n",
       "      <td>1.396238e+09</td>\n",
       "      <td>0</td>\n",
       "      <td>0</td>\n",
       "      <td>1</td>\n",
       "      <td>316.0</td>\n",
       "    </tr>\n",
       "    <tr>\n",
       "      <th>2</th>\n",
       "      <td>3</td>\n",
       "      <td>2013-03-19 23:14:52</td>\n",
       "      <td>Bottrill Mitchell</td>\n",
       "      <td>MitchellBottrill@gustr.com</td>\n",
       "      <td>ORG_INVITE</td>\n",
       "      <td>1.363735e+09</td>\n",
       "      <td>0</td>\n",
       "      <td>0</td>\n",
       "      <td>94</td>\n",
       "      <td>1525.0</td>\n",
       "    </tr>\n",
       "    <tr>\n",
       "      <th>3</th>\n",
       "      <td>4</td>\n",
       "      <td>2013-05-21 08:09:28</td>\n",
       "      <td>Clausen Nicklas</td>\n",
       "      <td>NicklasSClausen@yahoo.com</td>\n",
       "      <td>GUEST_INVITE</td>\n",
       "      <td>1.369210e+09</td>\n",
       "      <td>0</td>\n",
       "      <td>0</td>\n",
       "      <td>1</td>\n",
       "      <td>5151.0</td>\n",
       "    </tr>\n",
       "    <tr>\n",
       "      <th>4</th>\n",
       "      <td>5</td>\n",
       "      <td>2013-01-17 10:14:20</td>\n",
       "      <td>Raw Grace</td>\n",
       "      <td>GraceRaw@yahoo.com</td>\n",
       "      <td>GUEST_INVITE</td>\n",
       "      <td>1.358850e+09</td>\n",
       "      <td>0</td>\n",
       "      <td>0</td>\n",
       "      <td>193</td>\n",
       "      <td>5240.0</td>\n",
       "    </tr>\n",
       "    <tr>\n",
       "      <th>...</th>\n",
       "      <td>...</td>\n",
       "      <td>...</td>\n",
       "      <td>...</td>\n",
       "      <td>...</td>\n",
       "      <td>...</td>\n",
       "      <td>...</td>\n",
       "      <td>...</td>\n",
       "      <td>...</td>\n",
       "      <td>...</td>\n",
       "      <td>...</td>\n",
       "    </tr>\n",
       "    <tr>\n",
       "      <th>11995</th>\n",
       "      <td>11996</td>\n",
       "      <td>2013-09-06 06:14:15</td>\n",
       "      <td>Meier Sophia</td>\n",
       "      <td>SophiaMeier@gustr.com</td>\n",
       "      <td>ORG_INVITE</td>\n",
       "      <td>1.378448e+09</td>\n",
       "      <td>0</td>\n",
       "      <td>0</td>\n",
       "      <td>89</td>\n",
       "      <td>8263.0</td>\n",
       "    </tr>\n",
       "    <tr>\n",
       "      <th>11996</th>\n",
       "      <td>11997</td>\n",
       "      <td>2013-01-10 18:28:37</td>\n",
       "      <td>Fisher Amelie</td>\n",
       "      <td>AmelieFisher@gmail.com</td>\n",
       "      <td>SIGNUP_GOOGLE_AUTH</td>\n",
       "      <td>1.358275e+09</td>\n",
       "      <td>0</td>\n",
       "      <td>0</td>\n",
       "      <td>200</td>\n",
       "      <td>NaN</td>\n",
       "    </tr>\n",
       "    <tr>\n",
       "      <th>11997</th>\n",
       "      <td>11998</td>\n",
       "      <td>2014-04-27 12:45:16</td>\n",
       "      <td>Haynes Jake</td>\n",
       "      <td>JakeHaynes@cuvox.de</td>\n",
       "      <td>GUEST_INVITE</td>\n",
       "      <td>1.398603e+09</td>\n",
       "      <td>1</td>\n",
       "      <td>1</td>\n",
       "      <td>83</td>\n",
       "      <td>8074.0</td>\n",
       "    </tr>\n",
       "    <tr>\n",
       "      <th>11998</th>\n",
       "      <td>11999</td>\n",
       "      <td>2012-05-31 11:55:59</td>\n",
       "      <td>Faber Annett</td>\n",
       "      <td>mhaerzxp@iuxiw.com</td>\n",
       "      <td>PERSONAL_PROJECTS</td>\n",
       "      <td>1.338638e+09</td>\n",
       "      <td>0</td>\n",
       "      <td>0</td>\n",
       "      <td>6</td>\n",
       "      <td>NaN</td>\n",
       "    </tr>\n",
       "    <tr>\n",
       "      <th>11999</th>\n",
       "      <td>12000</td>\n",
       "      <td>2014-01-26 08:57:12</td>\n",
       "      <td>Lima Thaís</td>\n",
       "      <td>ThaisMeloLima@hotmail.com</td>\n",
       "      <td>SIGNUP</td>\n",
       "      <td>1.390727e+09</td>\n",
       "      <td>0</td>\n",
       "      <td>1</td>\n",
       "      <td>0</td>\n",
       "      <td>NaN</td>\n",
       "    </tr>\n",
       "  </tbody>\n",
       "</table>\n",
       "<p>12000 rows × 10 columns</p>\n",
       "</div>"
      ],
      "text/plain": [
       "       object_id        creation_time               name  \\\n",
       "0              1  2014-04-22 03:53:30     Clausen August   \n",
       "1              2  2013-11-15 03:45:04      Poole Matthew   \n",
       "2              3  2013-03-19 23:14:52  Bottrill Mitchell   \n",
       "3              4  2013-05-21 08:09:28    Clausen Nicklas   \n",
       "4              5  2013-01-17 10:14:20          Raw Grace   \n",
       "...          ...                  ...                ...   \n",
       "11995      11996  2013-09-06 06:14:15       Meier Sophia   \n",
       "11996      11997  2013-01-10 18:28:37      Fisher Amelie   \n",
       "11997      11998  2014-04-27 12:45:16        Haynes Jake   \n",
       "11998      11999  2012-05-31 11:55:59       Faber Annett   \n",
       "11999      12000  2014-01-26 08:57:12         Lima Thaís   \n",
       "\n",
       "                            email     creation_source  \\\n",
       "0        AugustCClausen@yahoo.com        GUEST_INVITE   \n",
       "1          MatthewPoole@gustr.com          ORG_INVITE   \n",
       "2      MitchellBottrill@gustr.com          ORG_INVITE   \n",
       "3       NicklasSClausen@yahoo.com        GUEST_INVITE   \n",
       "4              GraceRaw@yahoo.com        GUEST_INVITE   \n",
       "...                           ...                 ...   \n",
       "11995       SophiaMeier@gustr.com          ORG_INVITE   \n",
       "11996      AmelieFisher@gmail.com  SIGNUP_GOOGLE_AUTH   \n",
       "11997         JakeHaynes@cuvox.de        GUEST_INVITE   \n",
       "11998          mhaerzxp@iuxiw.com   PERSONAL_PROJECTS   \n",
       "11999   ThaisMeloLima@hotmail.com              SIGNUP   \n",
       "\n",
       "       last_session_creation_time  opted_in_to_mailing_list  \\\n",
       "0                    1.398139e+09                         1   \n",
       "1                    1.396238e+09                         0   \n",
       "2                    1.363735e+09                         0   \n",
       "3                    1.369210e+09                         0   \n",
       "4                    1.358850e+09                         0   \n",
       "...                           ...                       ...   \n",
       "11995                1.378448e+09                         0   \n",
       "11996                1.358275e+09                         0   \n",
       "11997                1.398603e+09                         1   \n",
       "11998                1.338638e+09                         0   \n",
       "11999                1.390727e+09                         0   \n",
       "\n",
       "       enabled_for_marketing_drip  org_id  invited_by_user_id  \n",
       "0                               0      11             10803.0  \n",
       "1                               0       1               316.0  \n",
       "2                               0      94              1525.0  \n",
       "3                               0       1              5151.0  \n",
       "4                               0     193              5240.0  \n",
       "...                           ...     ...                 ...  \n",
       "11995                           0      89              8263.0  \n",
       "11996                           0     200                 NaN  \n",
       "11997                           1      83              8074.0  \n",
       "11998                           0       6                 NaN  \n",
       "11999                           1       0                 NaN  \n",
       "\n",
       "[12000 rows x 10 columns]"
      ]
     },
     "execution_count": 174,
     "metadata": {},
     "output_type": "execute_result"
    }
   ],
   "source": [
    "users"
   ]
  },
  {
   "cell_type": "markdown",
   "id": "c1cc279f",
   "metadata": {},
   "source": [
    "The next thing we need to do is figure out which users are \"adopted\", which for the purposes of this exercise is defined as those users who have logged in three times in a one week period."
   ]
  },
  {
   "cell_type": "markdown",
   "id": "cd89d6e0",
   "metadata": {},
   "source": [
    "## For the purposes of this exercise, 'adopted' means that the user logged in three times within a week.\n",
    "\n",
    "We want to understand how this variable can be determined from other information."
   ]
  },
  {
   "cell_type": "code",
   "execution_count": 175,
   "id": "f89363e8",
   "metadata": {},
   "outputs": [],
   "source": [
    "# Assumptions: for a given user, all login times are stored in chronological order\n",
    "def adopted(user_id):\n",
    "    logins = engagement[engagement[\"user_id\"]==user_id][\"time_stamp\"]\n",
    "    for i in range(len(logins)-2):\n",
    "        delta = pd.to_datetime(logins.iloc[i+2])-pd.to_datetime(logins.iloc[i])\n",
    "        if delta < datetime.timedelta(days=7):\n",
    "            return 1\n",
    "    return 0"
   ]
  },
  {
   "cell_type": "code",
   "execution_count": 176,
   "id": "f2a00916",
   "metadata": {},
   "outputs": [],
   "source": [
    "users[\"adopted\"] = users[\"object_id\"].apply(adopted)"
   ]
  },
  {
   "cell_type": "code",
   "execution_count": 177,
   "id": "928991ba",
   "metadata": {},
   "outputs": [
    {
     "data": {
      "text/plain": [
       "0    10398\n",
       "1     1602\n",
       "Name: adopted, dtype: int64"
      ]
     },
     "execution_count": 177,
     "metadata": {},
     "output_type": "execute_result"
    }
   ],
   "source": [
    "users[\"adopted\"].value_counts()"
   ]
  },
  {
   "cell_type": "code",
   "execution_count": 178,
   "id": "df12fbbb",
   "metadata": {},
   "outputs": [
    {
     "data": {
      "text/plain": [
       "Index(['object_id', 'creation_time', 'name', 'email', 'creation_source',\n",
       "       'last_session_creation_time', 'opted_in_to_mailing_list',\n",
       "       'enabled_for_marketing_drip', 'org_id', 'invited_by_user_id',\n",
       "       'adopted'],\n",
       "      dtype='object')"
      ]
     },
     "execution_count": 178,
     "metadata": {},
     "output_type": "execute_result"
    }
   ],
   "source": [
    "users.columns"
   ]
  },
  {
   "cell_type": "markdown",
   "id": "f1a825fd",
   "metadata": {},
   "source": [
    "## Check if three variables: creation source, whether the user opted into the mailing list, and whether the user oped for the marketing drip campaign, are correlated with adoption."
   ]
  },
  {
   "cell_type": "code",
   "execution_count": 179,
   "id": "274201c3",
   "metadata": {},
   "outputs": [
    {
     "data": {
      "text/plain": [
       "ORG_INVITE            4254\n",
       "GUEST_INVITE          2163\n",
       "PERSONAL_PROJECTS     2111\n",
       "SIGNUP                2087\n",
       "SIGNUP_GOOGLE_AUTH    1385\n",
       "Name: creation_source, dtype: int64"
      ]
     },
     "execution_count": 179,
     "metadata": {},
     "output_type": "execute_result"
    }
   ],
   "source": [
    "users.creation_source.value_counts()"
   ]
  },
  {
   "cell_type": "code",
   "execution_count": 180,
   "id": "af8d4821",
   "metadata": {},
   "outputs": [
    {
     "data": {
      "text/html": [
       "<div>\n",
       "<style scoped>\n",
       "    .dataframe tbody tr th:only-of-type {\n",
       "        vertical-align: middle;\n",
       "    }\n",
       "\n",
       "    .dataframe tbody tr th {\n",
       "        vertical-align: top;\n",
       "    }\n",
       "\n",
       "    .dataframe thead th {\n",
       "        text-align: right;\n",
       "    }\n",
       "</style>\n",
       "<table border=\"1\" class=\"dataframe\">\n",
       "  <thead>\n",
       "    <tr style=\"text-align: right;\">\n",
       "      <th></th>\n",
       "      <th>adopted</th>\n",
       "    </tr>\n",
       "    <tr>\n",
       "      <th>creation_source</th>\n",
       "      <th></th>\n",
       "    </tr>\n",
       "  </thead>\n",
       "  <tbody>\n",
       "    <tr>\n",
       "      <th>GUEST_INVITE</th>\n",
       "      <td>0.166436</td>\n",
       "    </tr>\n",
       "    <tr>\n",
       "      <th>ORG_INVITE</th>\n",
       "      <td>0.129995</td>\n",
       "    </tr>\n",
       "    <tr>\n",
       "      <th>PERSONAL_PROJECTS</th>\n",
       "      <td>0.077688</td>\n",
       "    </tr>\n",
       "    <tr>\n",
       "      <th>SIGNUP</th>\n",
       "      <td>0.140393</td>\n",
       "    </tr>\n",
       "    <tr>\n",
       "      <th>SIGNUP_GOOGLE_AUTH</th>\n",
       "      <td>0.167509</td>\n",
       "    </tr>\n",
       "  </tbody>\n",
       "</table>\n",
       "</div>"
      ],
      "text/plain": [
       "                     adopted\n",
       "creation_source             \n",
       "GUEST_INVITE        0.166436\n",
       "ORG_INVITE          0.129995\n",
       "PERSONAL_PROJECTS   0.077688\n",
       "SIGNUP              0.140393\n",
       "SIGNUP_GOOGLE_AUTH  0.167509"
      ]
     },
     "execution_count": 180,
     "metadata": {},
     "output_type": "execute_result"
    }
   ],
   "source": [
    "# What portion of users are adopted by creation source?\n",
    "# Users with source \"PERSONAL_PROJECTS\" are significantly less likely to be adopted than from other sources.\n",
    "users[[\"creation_source\",\"adopted\"]].groupby('creation_source').mean()"
   ]
  },
  {
   "cell_type": "code",
   "execution_count": 181,
   "id": "ef5c1347",
   "metadata": {},
   "outputs": [
    {
     "data": {
      "text/html": [
       "<div>\n",
       "<style scoped>\n",
       "    .dataframe tbody tr th:only-of-type {\n",
       "        vertical-align: middle;\n",
       "    }\n",
       "\n",
       "    .dataframe tbody tr th {\n",
       "        vertical-align: top;\n",
       "    }\n",
       "\n",
       "    .dataframe thead th {\n",
       "        text-align: right;\n",
       "    }\n",
       "</style>\n",
       "<table border=\"1\" class=\"dataframe\">\n",
       "  <thead>\n",
       "    <tr style=\"text-align: right;\">\n",
       "      <th></th>\n",
       "      <th>adopted</th>\n",
       "    </tr>\n",
       "    <tr>\n",
       "      <th>opted_in_to_mailing_list</th>\n",
       "      <th></th>\n",
       "    </tr>\n",
       "  </thead>\n",
       "  <tbody>\n",
       "    <tr>\n",
       "      <th>0</th>\n",
       "      <td>0.131912</td>\n",
       "    </tr>\n",
       "    <tr>\n",
       "      <th>1</th>\n",
       "      <td>0.138277</td>\n",
       "    </tr>\n",
       "  </tbody>\n",
       "</table>\n",
       "</div>"
      ],
      "text/plain": [
       "                           adopted\n",
       "opted_in_to_mailing_list          \n",
       "0                         0.131912\n",
       "1                         0.138277"
      ]
     },
     "execution_count": 181,
     "metadata": {},
     "output_type": "execute_result"
    }
   ],
   "source": [
    "users[[\"opted_in_to_mailing_list\",\"adopted\"]].groupby('opted_in_to_mailing_list').mean()"
   ]
  },
  {
   "cell_type": "code",
   "execution_count": 182,
   "id": "aac7f891",
   "metadata": {},
   "outputs": [
    {
     "data": {
      "text/html": [
       "<div>\n",
       "<style scoped>\n",
       "    .dataframe tbody tr th:only-of-type {\n",
       "        vertical-align: middle;\n",
       "    }\n",
       "\n",
       "    .dataframe tbody tr th {\n",
       "        vertical-align: top;\n",
       "    }\n",
       "\n",
       "    .dataframe thead th {\n",
       "        text-align: right;\n",
       "    }\n",
       "</style>\n",
       "<table border=\"1\" class=\"dataframe\">\n",
       "  <thead>\n",
       "    <tr style=\"text-align: right;\">\n",
       "      <th></th>\n",
       "      <th>adopted</th>\n",
       "    </tr>\n",
       "    <tr>\n",
       "      <th>enabled_for_marketing_drip</th>\n",
       "      <th></th>\n",
       "    </tr>\n",
       "  </thead>\n",
       "  <tbody>\n",
       "    <tr>\n",
       "      <th>0</th>\n",
       "      <td>0.132837</td>\n",
       "    </tr>\n",
       "    <tr>\n",
       "      <th>1</th>\n",
       "      <td>0.137277</td>\n",
       "    </tr>\n",
       "  </tbody>\n",
       "</table>\n",
       "</div>"
      ],
      "text/plain": [
       "                             adopted\n",
       "enabled_for_marketing_drip          \n",
       "0                           0.132837\n",
       "1                           0.137277"
      ]
     },
     "execution_count": 182,
     "metadata": {},
     "output_type": "execute_result"
    }
   ],
   "source": [
    "users[[\"enabled_for_marketing_drip\",\"adopted\"]].groupby('enabled_for_marketing_drip').mean()"
   ]
  },
  {
   "cell_type": "markdown",
   "id": "a3af5bdc",
   "metadata": {},
   "source": [
    "The f-statistic, which is the `statistic` variable below, is the ratio between the variation within classes to the variation between classes. The larger this value, the more likely that the difference is due to actual variation between classes and not merely chance.\n",
    "\n",
    "The `pvalue` variable is the p-value for difference in means. We generally consider a threshold of 0.05. With `pvalue < 0.05`, we conclude that the variation is likely due to actual difference in means between variables. Otherwise, we cannot make such a conclusion."
   ]
  },
  {
   "cell_type": "code",
   "execution_count": 183,
   "id": "b32b1beb",
   "metadata": {},
   "outputs": [
    {
     "name": "stdout",
     "output_type": "stream",
     "text": [
      "p-value: 0.6103198747560203\n",
      "f-statistic: 0.25972302912447254\n"
     ]
    }
   ],
   "source": [
    "md0 = users[users[\"enabled_for_marketing_drip\"]==0][\"adopted\"]\n",
    "md1 = users[users[\"enabled_for_marketing_drip\"]==1][\"adopted\"]\n",
    "statistic, pvalue = f_oneway(md0, md1)\n",
    "print(\"p-value:\",pvalue)\n",
    "print(\"f-statistic:\",statistic)\n",
    "\n",
    "# High p value, so we cannot conclude that the means are different."
   ]
  },
  {
   "cell_type": "code",
   "execution_count": 184,
   "id": "f750f57a",
   "metadata": {},
   "outputs": [
    {
     "name": "stdout",
     "output_type": "stream",
     "text": [
      "Five creation sources\n",
      "p-value: 3.671202580293534e-19\n",
      "f-statistic: 23.240273648316546\n",
      "\n",
      "\n",
      "Four creation sources (all but personal projects)\n",
      "p-value: 7.493473734000719e-05\n",
      "f-statistic: 7.244406933746679\n"
     ]
    }
   ],
   "source": [
    "cs0 = users[users[\"creation_source\"]==\"GUEST_INVITE\"][\"adopted\"]\n",
    "cs1 = users[users[\"creation_source\"]==\"ORG_INVITE\"][\"adopted\"]\n",
    "cs2 = users[users[\"creation_source\"]==\"PERSONAL_PROJECTS\"][\"adopted\"]\n",
    "cs3 = users[users[\"creation_source\"]==\"SIGNUP\"][\"adopted\"]\n",
    "cs4 = users[users[\"creation_source\"]==\"SIGNUP_GOOGLE_AUTH\"][\"adopted\"]\n",
    "statistic, pvalue = f_oneway(cs0, cs1, cs2, cs3, cs4)\n",
    "print(\"Five creation sources\")\n",
    "print(\"p-value:\",pvalue)\n",
    "print(\"f-statistic:\",statistic)\n",
    "print(\"\\n\")\n",
    "\n",
    "# Low p-value, so we can conclude that not all means are the same.\n",
    "\n",
    "statistic, pvalue = f_oneway(cs0, cs1, cs3, cs4)\n",
    "print(\"Four creation sources (all but personal projects)\")\n",
    "print(\"p-value:\",pvalue)\n",
    "print(\"f-statistic:\",statistic)\n",
    "\n",
    "# Even if we ignore personal projects, the variation in the 'adopted' rate\n",
    "# among creation sources is great enough to conclude that there is an actual difference."
   ]
  },
  {
   "cell_type": "code",
   "execution_count": 185,
   "id": "3cc67a68",
   "metadata": {},
   "outputs": [
    {
     "name": "stdout",
     "output_type": "stream",
     "text": [
      "p-value: 0.37510254183308966\n",
      "f-statistic: 0.7867496832640625\n"
     ]
    }
   ],
   "source": [
    "ml0 = users[users[\"opted_in_to_mailing_list\"]==0][\"adopted\"]\n",
    "ml1 = users[users[\"opted_in_to_mailing_list\"]==1][\"adopted\"]\n",
    "statistic, pvalue = f_oneway(ml0, ml1)\n",
    "print(\"p-value:\",pvalue)\n",
    "print(\"f-statistic:\",statistic)\n",
    "# High p-value, so we cannot conclude that the means are different."
   ]
  },
  {
   "cell_type": "markdown",
   "id": "d1fb883c",
   "metadata": {},
   "source": [
    "## Linear Regression"
   ]
  },
  {
   "cell_type": "markdown",
   "id": "df8f93b0",
   "metadata": {},
   "source": [
    "First, set up a modified data set that is amenable to linear regression."
   ]
  },
  {
   "cell_type": "code",
   "execution_count": 186,
   "id": "4e18e57f",
   "metadata": {},
   "outputs": [],
   "source": [
    "modified_users = users.drop(\n",
    "    columns=[\"object_id\",\"name\",\"email\",\"last_session_creation_time\",\"invited_by_user_id\",\"org_id\"]\n",
    ")\n",
    "modified_users = modified_users.join(pd.get_dummies(modified_users['creation_source']))\n",
    "# Dropping one of the creation sources to avoid linear dependence.\n",
    "modified_users.drop(columns=[\"creation_source\",\"SIGNUP_GOOGLE_AUTH\"],inplace=True)\n",
    "modified_users[\"creation_time\"] = pd.to_datetime(modified_users[\"creation_time\"])\n",
    "# The new creation time is the number of days since January 1, AD 1. Time of day is ignored.\n",
    "# This value is normalized to mean 0 and variance 1.\n",
    "modified_users[\"creation_time\"] = modified_users.creation_time.apply(lambda x: x.toordinal())\n",
    "modified_users[\"creation_time\"] = \\\n",
    "    (modified_users[\"creation_time\"] - modified_users[\"creation_time\"].mean()) / modified_users[\"creation_time\"].std()"
   ]
  },
  {
   "cell_type": "code",
   "execution_count": 187,
   "id": "96384a7e",
   "metadata": {},
   "outputs": [
    {
     "data": {
      "text/html": [
       "<div>\n",
       "<style scoped>\n",
       "    .dataframe tbody tr th:only-of-type {\n",
       "        vertical-align: middle;\n",
       "    }\n",
       "\n",
       "    .dataframe tbody tr th {\n",
       "        vertical-align: top;\n",
       "    }\n",
       "\n",
       "    .dataframe thead th {\n",
       "        text-align: right;\n",
       "    }\n",
       "</style>\n",
       "<table border=\"1\" class=\"dataframe\">\n",
       "  <thead>\n",
       "    <tr style=\"text-align: right;\">\n",
       "      <th></th>\n",
       "      <th>creation_time</th>\n",
       "      <th>opted_in_to_mailing_list</th>\n",
       "      <th>enabled_for_marketing_drip</th>\n",
       "      <th>adopted</th>\n",
       "      <th>GUEST_INVITE</th>\n",
       "      <th>ORG_INVITE</th>\n",
       "      <th>PERSONAL_PROJECTS</th>\n",
       "      <th>SIGNUP</th>\n",
       "    </tr>\n",
       "  </thead>\n",
       "  <tbody>\n",
       "    <tr>\n",
       "      <th>0</th>\n",
       "      <td>1.292196</td>\n",
       "      <td>1</td>\n",
       "      <td>0</td>\n",
       "      <td>0</td>\n",
       "      <td>1</td>\n",
       "      <td>0</td>\n",
       "      <td>0</td>\n",
       "      <td>0</td>\n",
       "    </tr>\n",
       "    <tr>\n",
       "      <th>1</th>\n",
       "      <td>0.562880</td>\n",
       "      <td>0</td>\n",
       "      <td>0</td>\n",
       "      <td>1</td>\n",
       "      <td>0</td>\n",
       "      <td>1</td>\n",
       "      <td>0</td>\n",
       "      <td>0</td>\n",
       "    </tr>\n",
       "    <tr>\n",
       "      <th>2</th>\n",
       "      <td>-0.549557</td>\n",
       "      <td>0</td>\n",
       "      <td>0</td>\n",
       "      <td>0</td>\n",
       "      <td>0</td>\n",
       "      <td>1</td>\n",
       "      <td>0</td>\n",
       "      <td>0</td>\n",
       "    </tr>\n",
       "    <tr>\n",
       "      <th>3</th>\n",
       "      <td>-0.258754</td>\n",
       "      <td>0</td>\n",
       "      <td>0</td>\n",
       "      <td>0</td>\n",
       "      <td>1</td>\n",
       "      <td>0</td>\n",
       "      <td>0</td>\n",
       "      <td>0</td>\n",
       "    </tr>\n",
       "    <tr>\n",
       "      <th>4</th>\n",
       "      <td>-0.831128</td>\n",
       "      <td>0</td>\n",
       "      <td>0</td>\n",
       "      <td>0</td>\n",
       "      <td>1</td>\n",
       "      <td>0</td>\n",
       "      <td>0</td>\n",
       "      <td>0</td>\n",
       "    </tr>\n",
       "    <tr>\n",
       "      <th>...</th>\n",
       "      <td>...</td>\n",
       "      <td>...</td>\n",
       "      <td>...</td>\n",
       "      <td>...</td>\n",
       "      <td>...</td>\n",
       "      <td>...</td>\n",
       "      <td>...</td>\n",
       "      <td>...</td>\n",
       "    </tr>\n",
       "    <tr>\n",
       "      <th>11995</th>\n",
       "      <td>0.239766</td>\n",
       "      <td>0</td>\n",
       "      <td>0</td>\n",
       "      <td>0</td>\n",
       "      <td>0</td>\n",
       "      <td>1</td>\n",
       "      <td>0</td>\n",
       "      <td>0</td>\n",
       "    </tr>\n",
       "    <tr>\n",
       "      <th>11996</th>\n",
       "      <td>-0.863440</td>\n",
       "      <td>0</td>\n",
       "      <td>0</td>\n",
       "      <td>0</td>\n",
       "      <td>0</td>\n",
       "      <td>0</td>\n",
       "      <td>0</td>\n",
       "      <td>0</td>\n",
       "    </tr>\n",
       "    <tr>\n",
       "      <th>11997</th>\n",
       "      <td>1.315275</td>\n",
       "      <td>1</td>\n",
       "      <td>1</td>\n",
       "      <td>0</td>\n",
       "      <td>1</td>\n",
       "      <td>0</td>\n",
       "      <td>0</td>\n",
       "      <td>0</td>\n",
       "    </tr>\n",
       "    <tr>\n",
       "      <th>11998</th>\n",
       "      <td>-1.897406</td>\n",
       "      <td>0</td>\n",
       "      <td>0</td>\n",
       "      <td>0</td>\n",
       "      <td>0</td>\n",
       "      <td>0</td>\n",
       "      <td>1</td>\n",
       "      <td>0</td>\n",
       "    </tr>\n",
       "    <tr>\n",
       "      <th>11999</th>\n",
       "      <td>0.895227</td>\n",
       "      <td>0</td>\n",
       "      <td>1</td>\n",
       "      <td>0</td>\n",
       "      <td>0</td>\n",
       "      <td>0</td>\n",
       "      <td>0</td>\n",
       "      <td>1</td>\n",
       "    </tr>\n",
       "  </tbody>\n",
       "</table>\n",
       "<p>12000 rows × 8 columns</p>\n",
       "</div>"
      ],
      "text/plain": [
       "       creation_time  opted_in_to_mailing_list  enabled_for_marketing_drip  \\\n",
       "0           1.292196                         1                           0   \n",
       "1           0.562880                         0                           0   \n",
       "2          -0.549557                         0                           0   \n",
       "3          -0.258754                         0                           0   \n",
       "4          -0.831128                         0                           0   \n",
       "...              ...                       ...                         ...   \n",
       "11995       0.239766                         0                           0   \n",
       "11996      -0.863440                         0                           0   \n",
       "11997       1.315275                         1                           1   \n",
       "11998      -1.897406                         0                           0   \n",
       "11999       0.895227                         0                           1   \n",
       "\n",
       "       adopted  GUEST_INVITE  ORG_INVITE  PERSONAL_PROJECTS  SIGNUP  \n",
       "0            0             1           0                  0       0  \n",
       "1            1             0           1                  0       0  \n",
       "2            0             0           1                  0       0  \n",
       "3            0             1           0                  0       0  \n",
       "4            0             1           0                  0       0  \n",
       "...        ...           ...         ...                ...     ...  \n",
       "11995        0             0           1                  0       0  \n",
       "11996        0             0           0                  0       0  \n",
       "11997        0             1           0                  0       0  \n",
       "11998        0             0           0                  1       0  \n",
       "11999        0             0           0                  0       1  \n",
       "\n",
       "[12000 rows x 8 columns]"
      ]
     },
     "execution_count": 187,
     "metadata": {},
     "output_type": "execute_result"
    }
   ],
   "source": [
    "modified_users"
   ]
  },
  {
   "cell_type": "code",
   "execution_count": 188,
   "id": "d0f39386",
   "metadata": {},
   "outputs": [],
   "source": [
    "X,y = modified_users.drop(columns=[\"adopted\"]), modified_users[\"adopted\"]"
   ]
  },
  {
   "cell_type": "code",
   "execution_count": 189,
   "id": "be665a2f",
   "metadata": {},
   "outputs": [],
   "source": [
    "X_train, X_test, y_train, y_test = train_test_split(X,y,test_size = 0.2, random_state=42, stratify=y)"
   ]
  },
  {
   "cell_type": "markdown",
   "id": "fb6af121",
   "metadata": {},
   "source": [
    "Now, the regression."
   ]
  },
  {
   "cell_type": "code",
   "execution_count": 190,
   "id": "f0c3422b",
   "metadata": {},
   "outputs": [],
   "source": [
    "reg = LinearRegression().fit(X_train, y_train)"
   ]
  },
  {
   "cell_type": "code",
   "execution_count": 191,
   "id": "f184b5b4",
   "metadata": {},
   "outputs": [
    {
     "name": "stdout",
     "output_type": "stream",
     "text": [
      "                            OLS Regression Results                            \n",
      "==============================================================================\n",
      "Dep. Variable:                adopted   R-squared:                       0.016\n",
      "Model:                            OLS   Adj. R-squared:                  0.015\n",
      "Method:                 Least Squares   F-statistic:                     21.82\n",
      "Date:                Sun, 30 Jul 2023   Prob (F-statistic):           1.92e-29\n",
      "Time:                        23:20:27   Log-Likelihood:                -3193.9\n",
      "No. Observations:                9600   AIC:                             6404.\n",
      "Df Residuals:                    9592   BIC:                             6461.\n",
      "Df Model:                           7                                         \n",
      "Covariance Type:            nonrobust                                         \n",
      "==============================================================================================\n",
      "                                 coef    std err          t      P>|t|      [0.025      0.975]\n",
      "----------------------------------------------------------------------------------------------\n",
      "const                          0.1596      0.010     15.590      0.000       0.140       0.180\n",
      "creation_time                 -0.0314      0.003     -9.096      0.000      -0.038      -0.025\n",
      "opted_in_to_mailing_list       0.0032      0.009      0.347      0.729      -0.015       0.021\n",
      "enabled_for_marketing_drip    -0.0005      0.011     -0.044      0.965      -0.022       0.021\n",
      "GUEST_INVITE                   0.0040      0.013      0.310      0.757      -0.021       0.029\n",
      "ORG_INVITE                    -0.0259      0.012     -2.236      0.025      -0.049      -0.003\n",
      "PERSONAL_PROJECTS             -0.0850      0.013     -6.546      0.000      -0.110      -0.060\n",
      "SIGNUP                        -0.0202      0.013     -1.548      0.122      -0.046       0.005\n",
      "==============================================================================\n",
      "Omnibus:                     3578.236   Durbin-Watson:                   2.007\n",
      "Prob(Omnibus):                  0.000   Jarque-Bera (JB):             9669.468\n",
      "Skew:                           2.102   Prob(JB):                         0.00\n",
      "Kurtosis:                       5.549   Cond. No.                         7.88\n",
      "==============================================================================\n",
      "\n",
      "Notes:\n",
      "[1] Standard Errors assume that the covariance matrix of the errors is correctly specified.\n"
     ]
    }
   ],
   "source": [
    "# Using stats model, see significance of coefficients for regression\n",
    "X_train_const = sma.add_constant(X_train)\n",
    "est = sma.OLS(y_train, X_train_const)\n",
    "est2 = est.fit()\n",
    "print(est2.summary())\n",
    "\n",
    "# The summary demonstrates that creation_time, ORG_INVITE, PERSONAL_PROJECTS are significant."
   ]
  },
  {
   "cell_type": "code",
   "execution_count": 192,
   "id": "5cdfe6c4",
   "metadata": {},
   "outputs": [
    {
     "data": {
      "text/plain": [
       "{'creation_time': -0.031410883792497866,\n",
       " 'opted_in_to_mailing_list': 0.0031535476831538595,\n",
       " 'enabled_for_marketing_drip': -0.0004927555495426233,\n",
       " 'GUEST_INVITE': 0.004003496226164247,\n",
       " 'ORG_INVITE': -0.025934207105873984,\n",
       " 'PERSONAL_PROJECTS': -0.08501487771990807,\n",
       " 'SIGNUP': -0.020160343217321033}"
      ]
     },
     "execution_count": 192,
     "metadata": {},
     "output_type": "execute_result"
    }
   ],
   "source": [
    "coefficients = {X.columns[i]: reg.coef_[i] for i in range(len(X.columns))}\n",
    "coefficients"
   ]
  },
  {
   "cell_type": "code",
   "execution_count": 193,
   "id": "fa70428c",
   "metadata": {},
   "outputs": [
    {
     "data": {
      "text/plain": [
       "<matplotlib.lines.Line2D at 0x7fcfdc0837f0>"
      ]
     },
     "execution_count": 193,
     "metadata": {},
     "output_type": "execute_result"
    },
    {
     "data": {
      "image/png": "[encoded data removed]",
      "text/plain": [
       "<Figure size 1000x800 with 1 Axes>"
      ]
     },
     "metadata": {},
     "output_type": "display_data"
    }
   ],
   "source": [
    "plt.rcParams['figure.figsize'] = [10, 8]\n",
    "plt.plot(X.columns, reg.coef_, marker=\"o\", linestyle='None')\n",
    "for i in range(len(X.columns)):\n",
    "    y_offset = -0.003\n",
    "    x_offset = 0\n",
    "    if i == 0:\n",
    "        x_offset = 0.2\n",
    "    if reg.coef_[i] > 0:\n",
    "        y_offset = 0.002\n",
    "    plt.annotate(xy=(x_offset+i, y_offset+reg.coef_[i]),text=X.columns[i],ha=\"center\")\n",
    "plt.tick_params(\n",
    "    axis='x',          # changes apply to the x-axis\n",
    "    which='both',      # both major and minor ticks are affected\n",
    "    bottom=False,      # ticks along the bottom edge are off\n",
    "    top=False,         # ticks along the top edge are off\n",
    "    labelbottom=False) # labels along the bottom edge are off\n",
    "plt.axhline(y=0, color='black', alpha=0.2, linestyle='-')"
   ]
  },
  {
   "cell_type": "code",
   "execution_count": 194,
   "id": "bfdf6592",
   "metadata": {},
   "outputs": [
    {
     "name": "stdout",
     "output_type": "stream",
     "text": [
      "Train R^2: 0.015671021388690143\n",
      "Test R^2:  0.01539887615888813\n"
     ]
    }
   ],
   "source": [
    "y_train_pred = reg.predict(X_train)\n",
    "y_test_pred = reg.predict(X_test)\n",
    "print(\"Train R^2:\",r2_score(y_train, y_train_pred))\n",
    "print(\"Test R^2: \",r2_score(y_test, y_test_pred))"
   ]
  },
  {
   "cell_type": "markdown",
   "id": "7ee3078e",
   "metadata": {},
   "source": [
    "R<sup>2</sup> scores are low for both the test and training sets."
   ]
  },
  {
   "cell_type": "code",
   "execution_count": null,
   "id": "3aa748cf",
   "metadata": {},
   "outputs": [],
   "source": []
  },
  {
   "cell_type": "code",
   "execution_count": null,
   "id": "9cfa24a2",
   "metadata": {},
   "outputs": [],
   "source": []
  }
 ],
 "metadata": {
  "kernelspec": {
   "display_name": "Python 3 (ipykernel)",
   "language": "python",
   "name": "python3"
  },
  "language_info": {
   "codemirror_mode": {
    "name": "ipython",
    "version": 3
   },
   "file_extension": ".py",
   "mimetype": "text/x-python",
   "name": "python",
   "nbconvert_exporter": "python",
   "pygments_lexer": "ipython3",
   "version": "3.10.9"
  }
 },
 "nbformat": 4,
 "nbformat_minor": 5
}
